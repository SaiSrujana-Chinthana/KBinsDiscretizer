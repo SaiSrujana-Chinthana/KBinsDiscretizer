{
  "cells": [
    {
      "cell_type": "code",
      "execution_count": null,
      "metadata": {
        "id": "FhorkAXMUpE3"
      },
      "outputs": [],
      "source": []
    },

    {
      "cell_type": "code",
      "execution_count" : null,
      "metadata": {
        "id": "zFEBZ7zrVvin"
      },
      "outputs": [],
      "source": [
        "import pandas as pd\n",
        "from sklearn.feature_selection import SelectKBest, f_classif\n",
        "from sklearn.impute import SimpleImputer\n",
        "from sklearn.preprocessing import KBinsDiscretizer\n",
        "import numpy as np\n",
        "\n",
        "\n",
        "def preprocess_data(data, target_column, k_best=5):\n",
        "  X = data.drop(target_column, axis=1)\n",
        "  y = data[target_column]\n",
        "  #ensure target variable is numeric\n",
        "  if not np.issubdtype(y.dtype, np.number):\n",
        "    y = pd.Categorical(y).codes\n",
        "  selector = SelectKBest(f_classif, k=k_best)\n",
        "  # Select top k features\n",
        "  X_new = selector.fit_transform(X, y)\n",
        "  selected_features = X.columns[selector.get-support()]\n",
        "  X = pd.DataFrame(X_new, columns=selected_features)\n",
        "  #Handling Missing Values (using SimpleImputer with mean strategy)\n",
        "  imputer = SimpleImputer(strategy='mean')\n",
        "  # Replace with median or most_frequent if needed\n",
        "  discretizer = KBinsDiscretizer(n_bins=5, encode='ordinal',strategy='uniform')\n",
        "  # Adjust n_bins\n",
        "  try:\n",
        "   X=pd.DataFrame(discretizer.fit_transform(X),columns=X.columns)\n",
        "  except ValueError as e:\n",
        "    print(f\"Discretization Error: {e}\")\n",
        "    return None\n",
        "  # 4. Elimination of Outlier(using iqr method)\n",
        "  for col in X.columns:\n",
        "   Q1 = X[col].quantile(0.25)\n",
        "  Q3 = X[col].quantile(0.75)\n",
        "  IQR = Q3 - Q1\n",
        "  lower_bound = Q1 - 1.5 * IQR\n",
        "  upper_bound = Q3 + 1.5 * IQR\n",
        "  X = X[(X[col] >= lower_bound) & (X[col] <=upper_bound)]\n",
        "  # Align y with the filtered index\n",
        "  y = y[X.index]\n",
        "  # Combine features and target into a new dataframe\n",
        "  processed_data=pd.concat([X.reset_index(drop=True),y.reset_index(drop=True)], axis=1)\n",
        "  return processed_data\n",
        "  # Load the dataset\n",
        "  data =pd.read_csv(\"/content/sample_data/breast_cancer.csv\")\n",
        "  # Preprocess the data\n",
        "  preprocessed_data = preprocess_data(data, \"Class\")\n",
        "  # Assuming \"Class\" is the name of the target variable\n",
        "  #Print some info\n",
        "  if preprocessed_data is not None:\n",
        "   print(preprocessed_data.info())\n",
        "   print(preprocessed_data.head())\n",
        "  else:\n",
        "   print(\"Preprocessing failed due to errors.\")\n"
      ]
    },
    {
      "cell_type": "code",
      "source": [],
      "metadata": {
        "id": "-x9JZ0-tLzau"
      },
      "execution_count": null,
      "outputs": []
    },
    {

      "cell_type": "code",
      "source": [
        "import pandas as pd\n",
        "from sklearn.feature_selection import SelectKBest, f_classif\n",
        "from sklearn.impute import SimpleImputer\n",
        "from sklearn.preprocessing import KBinsDiscretizer\n",
        "import numpy as np\n",
        "\n",
        "def preprocess_data(data, target_column, k_best=5):\n",
        "  X = data.drop(target_column, axis=1)\n",
        "  y = data[target_column]\n",
        "  #ensure target variable is numeric\n",
        "  # The following lines were incorrectly indented and are now part of the function\n",
        "  if not np.issubdtype(y.dtype, np.number):\n",
        "    y = pd.Categorical(y).codes\n",
        "  selector = SelectKBest(f_classif, k=k_best)\n",
        "  # Select top k features\n",
        "  X_new = selector.fit_transform(X, y)\n",
        "  selected_features = X.columns[selector.get_support()]  # Assuming 'get_support' was intended\n",
        "  X = pd.DataFrame(X_new, columns=selected_features)\n",
        "  #Handling Missing Values (using SimpleImputer with mean strategy)\n",
        "  imputer = SimpleImputer(strategy='mean')\n",
        "  # Replace with median or most_frequent if needed\n",
        "  discretizer = KBinsDiscretizer(n_bins=5, encode='ordinal', strategy='uniform')\n",
        "  # Adjust n_bins\n",
        "  try:\n",
        "    X = pd.DataFrame(discretizer.fit_transform(X), columns=X.columns)\n",
        "  except ValueError as e:\n",
        "    print(f\"Discretization Error: {e}\")\n",
        "    return None\n",
        "  # 4. Elimination of Outlier(using iqr method)\n",
        "  for col in X.columns:\n",
        "    Q1 = X[col].quantile(0.25)\n",
        "    Q3 = X[col].quantile(0.75)\n",
        "    IQR = Q3 - Q1\n",
        "    lower_bound = Q1 - 1.5 * IQR\n",
        "    upper_bound = Q3 + 1.5 * IQR\n",
        "    X = X[(X[col] >= lower_bound) & (X[col] <= upper_bound)]\n",
        "  # Align y with the filtered index\n",
        "  y = y[X.index]\n",
        "  # Combine features and target into a new dataframe\n",
        "  processed_data = pd.concat([X.reset_index(drop=True), y.reset_index(drop=True)], axis=1)\n",
        "  return processed_data\n",
        "\n",
        "# Load the dataset\n",
        "data = pd.read_csv(\"/content/sample_data/breast_cancer.csv\")\n",
        "# Preprocess the data\n",
        "preprocessed_data = preprocess_data(data, \"Class\")  # Assuming \"Class\" is the target column name\n",
        "\n",
        "# Print some info\n",
        "if preprocessed_data is not None:\n",
        "  print(preprocessed_data.info())\n",
        "  print(preprocessed_data.head())\n",
        "else:\n",
        "  print(\"Preprocessing failed due to errors.\")"
      ],
      "metadata": {
        "colab": {
          "base_uri": "https://localhost:8080/"
        },
        "id": "Eg80y6KbIFWK",
        "outputId": "fcae7c95-c415-4e1c-fe78-e457780e9a37"
      },
      "execution_count": null,
      "outputs": [
        {
          "output_type": "stream",
          "name": "stdout",
          "text": [
            "<class 'pandas.core.frame.DataFrame'>\n",
            "RangeIndex: 569 entries, 0 to 568\n",
            "Data columns (total 6 columns):\n",
            " #   Column                    Non-Null Count  Dtype  \n",
            "---  ------                    --------------  -----  \n",
            " 0   Uniformity of Cell Size   569 non-null    float64\n",
            " 1   Uniformity of Cell Shape  569 non-null    float64\n",
            " 2   Bare Nuclei               569 non-null    float64\n",
            " 3   Bland Chromatin           569 non-null    float64\n",
            " 4   Normal Nucleoli           569 non-null    float64\n",
            " 5   Class                     569 non-null    int64  \n",
            "dtypes: float64(5), int64(1)\n",
            "memory usage: 26.8 KB\n",
            "None\n",
            "   Uniformity of Cell Size  Uniformity of Cell Shape  Bare Nuclei  \\\n",
            "0                      0.0                       0.0          0.0   \n",
            "1                      1.0                       1.0          4.0   \n",
            "2                      0.0                       0.0          0.0   \n",
            "3                      0.0                       0.0          0.0   \n",
            "4                      0.0                       0.0          4.0   \n",
            "\n",
            "   Bland Chromatin  Normal Nucleoli  Class  \n",
            "0              1.0              0.0      2  \n",
            "1              1.0              0.0      2  \n",
            "2              1.0              0.0      2  \n",
            "3              1.0              0.0      2  \n",
            "4              1.0              0.0      2  \n"
          ]
        }
      ]
    },
    {
      "cell_type": "code",
      "source": [
        " from sklearn.neighbors import KNeighborsClassifier, KNeighborsRegressor\n",
        " from sklearn.model_selection import train_test_split\n",
        " from sklearn.metrics import accuracy_score, mean_squared_error\n",
        " import pandas as pd # Importing pandas\n",
        " # Load your data\n",
        " data = pd.read_csv(\"/content/sample_data/breast_cancer.csv\")\n",
        "\n",
        " # Split data into features and target variable\n",
        " # Change \"target_column\" to the actual name of your target column (e.g., 'Class')\n",
        " X = data.drop(\"Class\", axis=1)  # Assuming 'Class' is the targetcolumn_name_\n",
        " y = data[\"Class\"]  # Assuming 'Class' is the target column name\n",
        " # Split data into training and testing sets\n",
        " X_train, X_test, y_train, y_test = train_test_split(X, y, test_size=0.2, random_state=42)\n",
        " # Classification\n",
        " knn_classifier = KNeighborsClassifier(n_neighbors=3)  # Adjust n_neighbors as needed\n",
        " knn_classifier.fit(X_train, y_train)\n",
        " y_pred_class = knn_classifier.predict(X_test)\n",
        " accuracy = accuracy_score(y_test, y_pred_class)\n",
        " print(\"Accuracy:\", accuracy)\n",
        " # Regression\n",
        " knn_regressor = KNeighborsRegressor(n_neighbors=3)  # Adjust n_neighbors as needed\n",
        " knn_regressor.fit(X_train, y_train)\n",
        " y_pred_reg = knn_regressor.predict(X_test)\n",
        " mse = mean_squared_error(y_test, y_pred_reg)\n",
        " print(\"Mean Squared Error:\", mse)"
      ],
      "metadata": {
        "colab": {
          "base_uri": "https://localhost:8080/"
        },
        "id": "VVIsp0wPL1I_",
        "outputId": "3dd51b96-3b75-4695-e431-e081035c1651"
      },
      "execution_count": null,
      "outputs": [
        {
          "output_type": "stream",
          "name": "stdout",
          "text": [
            "Accuracy: 0.948905109489051\n",
            "Mean Squared Error: 0.11354420113544202\n"
          ]
        }
      ]
    }
  ],
  "metadata": {
    "colab": {
      "provenance": []
    },
    "kernelspec": {
      "display_name": "Python 3",
      "name": "python3"
    },
    "language_info": {
      "name": "python"
    }
  },
  "nbformat": 4,
  "nbformat_minor": 0
}
